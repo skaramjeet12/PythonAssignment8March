{
 "cells": [
  {
   "cell_type": "code",
   "execution_count": null,
   "id": "a841c199",
   "metadata": {},
   "outputs": [],
   "source": [
    "import pandas as pd\n",
    "import numpy as np\n",
    "\n",
    "# create example data for tn.movie_budgets.csv\n",
    "movie_titles = ['The Godfather', 'Titanic', 'Avatar', 'The Dark Knight', 'Jurassic Park']\n",
    "production_budgets = np.random.randint(low=50000000, high=300000000, size=5)\n",
    "domestic_gross = np.random.randint(low=100000000, high=600000000, size=5)\n",
    "worldwide_gross = np.random.randint(low=500000000, high=2000000000, size=5)\n",
    "\n",
    "# create DataFrame\n",
    "budgets_df = pd.DataFrame({\n",
    "    'movie': movie_titles,\n",
    "    'production_budget': production_budgets,\n",
    "    'domestic_gross': domestic_gross,\n",
    "    'worldwide_gross': worldwide_gross\n",
    "})\n",
    "\n",
    "# save DataFrame to CSV\n",
    "budgets_df.to_csv('tn.movie_budgets.csv', index=False)\n"
   ]
  }
 ],
 "metadata": {
  "kernelspec": {
   "display_name": "Python 3 (ipykernel)",
   "language": "python",
   "name": "python3"
  }
 },
 "nbformat": 4,
 "nbformat_minor": 5
}
