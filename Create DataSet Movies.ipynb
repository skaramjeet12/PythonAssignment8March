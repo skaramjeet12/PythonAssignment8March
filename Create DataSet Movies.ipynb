{
 "cells": [
  {
   "cell_type": "code",
   "execution_count": null,
   "id": "831e3c0d",
   "metadata": {},
   "outputs": [],
   "source": [
    "import pandas as pd\n",
    "import numpy as np\n",
    "\n",
    "# create example data for movies.csv\n",
    "movie_titles = ['The Godfather', 'Titanic', 'Avatar', 'The Dark Knight', 'Jurassic Park']\n",
    "genres = ['Crime', 'Drama', 'Action', 'Action', 'Adventure']\n",
    "runtime_minutes = np.random.randint(low=90, high=180, size=5)\n",
    "studios = ['Paramount Pictures', '20th Century Fox', '20th Century Fox', 'Warner Bros', 'Universal Pictures']\n",
    "\n",
    "# create DataFrame\n",
    "movies_df = pd.DataFrame({\n",
    "    'title': movie_titles,\n",
    "    'genre': genres,\n",
    "    'runtime_minutes': runtime_minutes,\n",
    "    'studio': studios\n",
    "})\n",
    "\n",
    "# save DataFrame to CSV\n",
    "movies_df.to_csv('movies.csv', index=False)\n"
   ]
  }
 ],
 "metadata": {
  "kernelspec": {
   "display_name": "Python 3 (ipykernel)",
   "language": "python",
   "name": "python3"
  },
  "language_info": {
   "codemirror_mode": {
    "name": "ipython",
    "version": 3
   },
   "file_extension": ".py",
   "mimetype": "text/x-python",
   "name": "python",
   "nbconvert_exporter": "python",
   "pygments_lexer": "ipython3",
   "version": "3.9.12"
  }
 },
 "nbformat": 4,
 "nbformat_minor": 5
}
